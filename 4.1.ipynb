{
 "cells": [
  {
   "cell_type": "code",
   "execution_count": 1,
   "metadata": {
    "collapsed": true
   },
   "outputs": [],
   "source": [
    "import numpy as np\n",
    "import pandas as pd\n",
    "import matplotlib.pyplot as plt\n",
    "import random\n",
    "random.seed(1)"
   ]
  },
  {
   "cell_type": "markdown",
   "metadata": {},
   "source": [
    "4.1(a)\n"
   ]
  },
  {
   "cell_type": "code",
   "execution_count": 2,
   "metadata": {},
   "outputs": [
    {
     "name": "stdout",
     "output_type": "stream",
     "text": [
      "6    1407\n",
      "5    1374\n",
      "4    1286\n",
      "1    1226\n",
      "2    1073\n",
      "3     986\n",
      "Name: Label, dtype: int64\n"
     ]
    },
    {
     "name": "stderr",
     "output_type": "stream",
     "text": [
      "/Users/justin/anaconda/envs/py35/lib/python2.7/site-packages/matplotlib/font_manager.py:281: UserWarning: Matplotlib is building the font cache using fc-list. This may take a moment.\n",
      "  'Matplotlib is building the font cache using fc-list. '\n"
     ]
    },
    {
     "data": {
      "image/png": "[encoded data removed]",
      "text/plain": [
       "<Figure size 432x288 with 1 Axes>"
      ]
     },
     "metadata": {
      "needs_background": "light"
     },
     "output_type": "display_data"
    }
   ],
   "source": [
    "x_train = pd.read_csv('/Users/justin/Desktop/Data Science/TS/UCI HAR Dataset/train/X_train.csv',header=None)\n",
    "df_xtrain = pd.DataFrame(x_train)\n",
    "df_xtrain.transpose()\n",
    "\n",
    "\n",
    "data = pd.read_table(\"/Users/justin/Desktop/Data Science/TS/UCI HAR Dataset/train/y_train.txt\", sep = \" \", header=None)\n",
    "df_ytrain = pd.DataFrame(data)\n",
    "\n",
    "headers = pd.read_table(\"/Users/justin/Desktop/Data Science/TS/UCI HAR Dataset/features.txt\", sep = \" \", header=None)\n",
    "df_xtrain.columns = headers[1]\n",
    "df_ytrain.columns=[\"Label\"]\n",
    "\n",
    "df_combined = pd.concat([df_ytrain,df_xtrain],axis=1)\n",
    "\n",
    "df_ytrain.hist(bins=6)\n",
    "print (df_ytrain[\"Label\"].value_counts())"
   ]
  },
  {
   "cell_type": "code",
   "execution_count": null,
   "metadata": {
    "collapsed": true
   },
   "outputs": [],
   "source": [
    "filtered = df_xtrain.loc[df_ytrain[\"Label\"] ==1].head()\n",
    "\n",
    "data_description = df_xtrain.describe()\n",
    "\n",
    "r = random.sample(range(0,df_combined.shape[1]),10)\n",
    "for i in range(10):\n",
    "    plt.scatter(df_combined['Label'],df_combined.iloc[:,r[i]])\n",
    "    plt.title(df_combined.columns[r[i]])\n",
    "    plt.show()"
   ]
  }
 ],
 "metadata": {
  "kernelspec": {
   "display_name": "Python 3",
   "language": "python",
   "name": "python3"
  },
  "language_info": {
   "codemirror_mode": {
    "name": "ipython",
    "version": 2
   },
   "file_extension": ".py",
   "mimetype": "text/x-python",
   "name": "python",
   "nbconvert_exporter": "python",
   "pygments_lexer": "ipython2",
   "version": "2.7.6"
  }
 },
 "nbformat": 4,
 "nbformat_minor": 2
}
