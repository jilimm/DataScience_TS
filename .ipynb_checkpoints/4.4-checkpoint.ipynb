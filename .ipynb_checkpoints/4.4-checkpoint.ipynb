{
 "cells": [
  {
   "cell_type": "markdown",
   "metadata": {},
   "source": [
    "# Exercise 4.4\n",
    "\n",
    "As 2 time series data sequences usually vary in lengths and have local phase shifts (for example, it is not\n",
    "straight forward to use popular distance metrics such as Euclidean distance on time series data. Dynamic\n",
    "Time Warping (DTW)[8][9] is a similarity measuring technique often used for the above described scenarios.\n",
    "Simple classifiers such as K-Nearest Neighbors can achieve high accuracy while using DTW as a\n",
    "distance metric for classifying/clustering time series data.\n",
    "The following tutorial applies DTW on some of the selected derived features from the activity recognition\n",
    "data set.\n",
    "https://github.com/markdregan/K-Nearest-Neighbors-with-Dynamic-Time-Warping/blob/\n",
    "master/K_Nearest_Neighbor_Dynamic_Time_Warping.ipynb"
   ]
  },
  {
   "cell_type": "code",
   "execution_count": null,
   "metadata": {},
   "outputs": [],
   "source": [
    "import numpy as np\n",
    "import pandas as pd\n",
    "import matplotlib.pyplot as plt\n",
    "import scipy.signal\n",
    "\n",
    "#imports for DTW\n",
    "import sys\n",
    "import collections\n",
    "import itertools\n",
    "import numpy as np\n",
    "import matplotlib.pyplot as plt\n",
    "from scipy.stats import mode\n",
    "from scipy.spatial.distance import squareform"
   ]
  },
  {
   "cell_type": "code",
   "execution_count": null,
   "metadata": {},
   "outputs": [],
   "source": []
  },
  {
   "cell_type": "markdown",
   "metadata": {},
   "source": [
    "### Part A\n"
   ]
  }
 ],
 "metadata": {
  "kernelspec": {
   "display_name": "Python 3",
   "language": "python",
   "name": "python3"
  },
  "language_info": {
   "codemirror_mode": {
    "name": "ipython",
    "version": 3
   },
   "file_extension": ".py",
   "mimetype": "text/x-python",
   "name": "python",
   "nbconvert_exporter": "python",
   "pygments_lexer": "ipython3",
   "version": "3.7.0"
  }
 },
 "nbformat": 4,
 "nbformat_minor": 2
}
